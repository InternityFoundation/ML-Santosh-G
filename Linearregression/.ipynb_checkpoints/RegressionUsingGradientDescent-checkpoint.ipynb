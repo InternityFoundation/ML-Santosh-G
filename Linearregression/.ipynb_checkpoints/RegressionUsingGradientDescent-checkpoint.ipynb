{
 "cells": [
  {
   "cell_type": "code",
   "execution_count": 19,
   "metadata": {},
   "outputs": [],
   "source": [
    "#import necessary libraries that will be used\n",
    "import pandas as pd\n",
    "import numpy as np\n",
    "import matplotlib.pyplot as mpl"
   ]
  },
  {
   "cell_type": "code",
   "execution_count": 20,
   "metadata": {},
   "outputs": [],
   "source": [
    "#defining the cost function J(theta)\n",
    "def costFunction(theta,xs,y):\n",
    "    J = 0.\n",
    "    for i in range(1,len(y)):\n",
    "        J = J + (1/(2*len(y)))*((np.dot(xs,theta)-y[i]))**2\n",
    "        return J\n",
    "\n",
    "#defining the batch gradient descent algorihtm\n",
    "def gradientDescent(xs, y, theta, alpha, m, iterations):\n",
    "    xTrans = xs.transpose()\n",
    "    for i in range(0, iterations):\n",
    "        hypothesis = np.dot(xs, theta)\n",
    "        loss = hypothesis - y\n",
    "        cost = np.sum(loss ** 2) / (2 * m)\n",
    "        gradient = np.dot(xTrans, loss) / m\n",
    "        theta = theta - alpha * gradient\n",
    "    return theta\n",
    "\n",
    "#function to  plot a straight line given the slope and intercept\n",
    "def abline(slope, intercept):\n",
    "    axes = mpl.gca()\n",
    "    x_vals = np.array(axes.get_xlim())\n",
    "    y_vals = intercept + slope * x_vals\n",
    "    mpl.plot(x_vals, y_vals, '--')"
   ]
  },
  {
   "cell_type": "code",
   "execution_count": 21,
   "metadata": {},
   "outputs": [
    {
     "name": "stdout",
     "output_type": "stream",
     "text": [
      "[0.43979125 0.99539474]\n"
     ]
    },
    {
     "data": {
      "image/png": "[encoded data removed]",
      "text/plain": [
       "<Figure size 432x288 with 1 Axes>"
      ]
     },
     "metadata": {},
     "output_type": "display_data"
    }
   ],
   "source": [
    "#Load the input and outputs from the source\n",
    "data_url=\"train.csv\"\n",
    "data=pd.read_csv(data_url)\n",
    "xs=pd.DataFrame({'x0':1.,'x':data.X})\n",
    "x=data.X.values\n",
    "y=data.Y.values\n",
    "\n",
    "#Plot the obtained data\n",
    "mpl.plot(x,y,'rx')\n",
    "theta=pd.DataFrame({'theta':[0.]*2})\n",
    "thetaT=theta.T\n",
    "numIterations= 10000\n",
    "m, n = np.shape(xs)\n",
    "alpha = 0.0005\n",
    "theta = np.ones(n)\n",
    "\n",
    "#optimize the cost function by reaching a minimum values for theta using gradient descent algorithm\n",
    "theta = gradientDescent(xs, y, theta, alpha, m, numIterations)\n",
    "print(theta)\n",
    "\n",
    "#plot a straight line through the datapoints for the computed theta\n",
    "abline(theta[1],theta[0])"
   ]
  },
  {
   "cell_type": "code",
   "execution_count": 22,
   "metadata": {},
   "outputs": [
    {
     "name": "stdout",
     "output_type": "stream",
     "text": [
      "Average error in test data is 0.356289\n"
     ]
    }
   ],
   "source": [
    "#Load the test data\n",
    "testurl=\"test.csv\"\n",
    "testdata=pd.read_csv(testurl)\n",
    "xstest=pd.DataFrame({'x0':1.,'x':testdata.X})\n",
    "m, n = np.shape(xstest)\n",
    "xtest=testdata.X.values\n",
    "ytest=testdata.Y.values\n",
    "\n",
    "#Compare the actual and computed results\n",
    "ycompute=np.dot(xstest,theta)\n",
    "loss=ycompute-ytest\n",
    "print(\"Average error in test data is %f\"%np.mean(loss))"
   ]
  }
 ],
 "metadata": {
  "kernelspec": {
   "display_name": "Python 3",
   "language": "python",
   "name": "python3"
  },
  "language_info": {
   "codemirror_mode": {
    "name": "ipython",
    "version": 3
   },
   "file_extension": ".py",
   "mimetype": "text/x-python",
   "name": "python",
   "nbconvert_exporter": "python",
   "pygments_lexer": "ipython3",
   "version": "3.6.5"
  }
 },
 "nbformat": 4,
 "nbformat_minor": 2
}
